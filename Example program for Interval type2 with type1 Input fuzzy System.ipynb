{
 "cells": [
  {
   "cell_type": "markdown",
   "metadata": {},
   "source": [
    "# Example of IT-2 fuzzy system with type-1 inputs:\n",
    "\n",
    "# Determining fitness of a person based on thier hieght and weight"
   ]
  },
  {
   "cell_type": "code",
   "execution_count": 3,
   "metadata": {},
   "outputs": [],
   "source": [
    "import numpy as np\n",
    "import skfuzzy as fuzz\n",
    "import matplotlib.pyplot as plt"
   ]
  },
  {
   "cell_type": "code",
   "execution_count": 4,
   "metadata": {},
   "outputs": [],
   "source": [
    "def fuzz_UpperMemFunc(x_var, typeOfMf, lst):\n",
    "    '''\n",
    "    returns Upper membership values.\n",
    "    \n",
    "    keyword arguments:\n",
    "    \n",
    "    x_var -- x range of variable var\n",
    "    typeOfMf -- type of membershi function\n",
    "    lst -- list of values provided\n",
    "    '''\n",
    "    \n",
    "    if typeOfMf == 'trimf':\n",
    "        return fuzz.trimf(x_var,lst)\n",
    "    elif typeOfMf == 'gaussmf':\n",
    "        mean, sigma = lst\n",
    "        return fuzz.gaussmf(x_var, mean, sigma)\n",
    "    elif typeOfMf == 'gauss2mf':\n",
    "        mean1, sigma1, mean2, sigma2 = lst\n",
    "        return fuzz.gauss2mf(x_var, mean1, sigma1, mean2, sigma2)\n",
    "    elif typeOfMf == 'trapmf':\n",
    "#         print(fuzz.trapmf(var, lst))\n",
    "        return fuzz.trapmf(x_var, lst)\n",
    "    elif typeOfMf == 'gbellmf':\n",
    "        a,b,c = lst\n",
    "        return fuzz.gbellmf(x_var, a, b, c)"
   ]
  },
  {
   "cell_type": "code",
   "execution_count": 5,
   "metadata": {},
   "outputs": [],
   "source": [
    "def fuzz_LowerMemFunc(x_var, typeofMf, lst):\n",
    "    '''\n",
    "    returns Lower membership values.\n",
    "    \n",
    "    keyword arguments:\n",
    "    \n",
    "    x_var -- x range of variable var\n",
    "    typeOfMf -- type of membershi function\n",
    "    lst -- list of values provided\n",
    "    '''\n",
    "    if typeofMf == 'trimf':\n",
    "        return triLmf(x_var, lst)\n",
    "    elif typeofMf == 'trapmf':\n",
    "        return trapLmf(x_var, lst)\n",
    "    elif typeofMf == 'gaussmf':\n",
    "        mean, sigma, height = lst\n",
    "        return gaussLmf(x_var, mean, sigma, height)"
   ]
  },
  {
   "cell_type": "code",
   "execution_count": 6,
   "metadata": {},
   "outputs": [],
   "source": [
    "def triLmf(x, abch):\n",
    "    '''\n",
    "    returns the triangular lower membership values.\n",
    "    \n",
    "    keyword arguments:\n",
    "    \n",
    "    x -- x range of the variable\n",
    "    abch -- list of values with upper bound included\n",
    "    '''\n",
    "    \n",
    "    assert len(abch) == 4, 'abc parameter must have exactly three elements.'\n",
    "    a, b, c, h = np.r_[abch]     # Zero-indexing in Python\n",
    "    assert a <= b and b <= c, 'abc requires the three elements a <= b <= c.'\n",
    "\n",
    "    y = np.zeros(len(x))\n",
    "\n",
    "    # Left side\n",
    "    if a != b:\n",
    "        idx = np.nonzero(np.logical_and(a < x, x < b))[0]\n",
    "        y[idx] = ((x[idx] - a) / float(b - a)) * h #left side bounded by height h\n",
    "\n",
    "    # Right side\n",
    "    if b != c:\n",
    "        idx = np.nonzero(np.logical_and(b < x, x < c))[0]\n",
    "        y[idx] = ((c - x[idx]) / float(c - b)) * h #right side bounded by height h\n",
    "\n",
    "    idx = np.nonzero(x == b)\n",
    "    y[idx] = h #center part at height h\n",
    "    return y\n"
   ]
  },
  {
   "cell_type": "code",
   "execution_count": 7,
   "metadata": {},
   "outputs": [],
   "source": [
    "def trapLmf(x, abcdh):\n",
    "    '''\n",
    "    returns the trapzoidal lower membership values.\n",
    "    \n",
    "    keyword arguments:\n",
    "    \n",
    "    x -- x range of the variable\n",
    "    abcdh -- list of values with upper bound included\n",
    "    '''\n",
    "    \n",
    "    assert len(abcdh) == 5, 'abcd parameter must have exactly four elements.'\n",
    "    a, b, c, d, h = np.r_[abcdh]\n",
    "    assert a <= b and b <= c and c <= d, 'abcd requires the four elements \\\n",
    "                                          a <= b <= c <= d.'\n",
    "    y = np.full(np.shape(x),h)\n",
    "\n",
    "    idx = np.nonzero(x <= b)[0]\n",
    "    y[idx] = triLmf(x[idx], np.r_[a, b, b, h])\n",
    "\n",
    "    idx = np.nonzero(x >= c)[0]\n",
    "    y[idx] = triLmf(x[idx], np.r_[c, c, d, h])\n",
    "\n",
    "    idx = np.nonzero(x < a)[0]\n",
    "    y[idx] = np.zeros(len(idx))\n",
    "\n",
    "    idx = np.nonzero(x > d)[0]\n",
    "    y[idx] = np.zeros(len(idx))\n",
    "\n",
    "    return y\n"
   ]
  },
  {
   "cell_type": "code",
   "execution_count": 8,
   "metadata": {},
   "outputs": [],
   "source": [
    "def gaussLmf(x, mean, sigma, h):\n",
    "    '''\n",
    "    returns the gaussian lower membership values.\n",
    "    \n",
    "    keyword arguments:\n",
    "    \n",
    "    x -- x range of the variable\n",
    "    mean -- mean of the graph\n",
    "    sigma -- standard deviation along the range\n",
    "    h -- upper bound of the LMF\n",
    "    '''\n",
    "    return (np.exp(-((x - mean)**2.) / (2 * sigma**2.)))*h"
   ]
  },
  {
   "cell_type": "code",
   "execution_count": 9,
   "metadata": {},
   "outputs": [],
   "source": [
    "def fuzz_IT2_Inputs(x_var, lst):\n",
    "    '''\n",
    "    returns the list of tuple of upper and lower membership values along the range\n",
    "    and the list of linguistic terms chosen.\n",
    "    \n",
    "    keyword arguments:\n",
    "    \n",
    "    x_var -- x range of the variable var\n",
    "    lst --  list of input linguistic terms for a linguistic variable. \n",
    "    '''\n",
    "    \n",
    "\n",
    "    umf = [] #list to store upper membership values\n",
    "    lmf = [] #list to store lower membership values\n",
    "    \n",
    "    for i in range(len(lst)):\n",
    "        typeofMf = input(f'Enter the type of membership function for {lst[i]}:')\n",
    "        \n",
    "        '''The input format here is first for upper membership function\n",
    "        and then for lower membership function along with height.\n",
    "        \n",
    "        ex: trapziodal func: [a b c d e f g h i]\n",
    "        [a b c d] -- upper membership function\n",
    "        [e f g h i] -- lower membership function with height i\n",
    "        '''\n",
    "        varType = [float(x) for x in input(f\"Enter the numbers for {lst[i]} :\").split(' ')]\n",
    "        \n",
    "        l = round(len(varType[:-1])/2)\n",
    "        lst_u = varType[:l]\n",
    "        lst_l = varType[l:]\n",
    "        varmf_u = fuzz_UpperMemFunc(x_var, typeofMf, lst_u)\n",
    "        varmf_l = fuzz_LowerMemFunc(x_var, typeofMf, lst_l)\n",
    "        umf.append(varmf_u)\n",
    "        lmf.append(varmf_l)\n",
    "        \n",
    "    return (umf,lmf)"
   ]
  },
  {
   "cell_type": "code",
   "execution_count": 10,
   "metadata": {},
   "outputs": [],
   "source": [
    "def fuzz_IT2_plot_mf(x_var, var, var_types, varName):\n",
    "    '''\n",
    "    plots the membership graph for variable varName.\n",
    "    \n",
    "    keyword argument:\n",
    "    \n",
    "    varName -- name of the variable\n",
    "    x_var -- x range of variable varName\n",
    "    var -- 2D tuple storing upper and lower membership values\n",
    "    var_types -- list storing the linguistic terms\n",
    "    '''\n",
    "    \n",
    "    print(f'The following plot shows the {varName}')\n",
    "    fig, ax = plt.subplots(figsize=(8, 3))\n",
    "    \n",
    "    for i in range(len(var[0])):\n",
    "        ax.fill_between(x_var, var[0][i], var[1][i],alpha=0.7,label=var_types[i])\n",
    "    \n",
    "    ax.set_title(varName)\n",
    "    ax.legend()"
   ]
  },
  {
   "cell_type": "code",
   "execution_count": 11,
   "metadata": {},
   "outputs": [],
   "source": [
    "def fuzz_make_rules(var1_types, var2_types):\n",
    "    '''\n",
    "    returns a list with decided rules.\n",
    "    \n",
    "    keyword arguments:\n",
    "    \n",
    "    var1_types -- membership values of first variable\n",
    "    var2_types -- membership values of second variable\n",
    "    '''\n",
    "    \n",
    "    rule_lst = []\n",
    "    for i in range(len(var1_types)):\n",
    "        rule_ = []\n",
    "        for j in range(len(var2_types)):\n",
    "            rule_.append(int(input(f'Enter the number corresponding to the above fitness level menu for rule {var1_types[i]} and {var2_types[j]}: ')))\n",
    "        rule_lst.append(rule_)\n",
    "    return rule_lst"
   ]
  },
  {
   "cell_type": "code",
   "execution_count": 12,
   "metadata": {},
   "outputs": [],
   "source": [
    "def fuzz_IT2_Interplot_mem(var, t2input):\n",
    "    '''\n",
    "    Does the inter plotting bw singleton value and the membership value.\n",
    "    \n",
    "    keywords arguments:\n",
    "    \n",
    "    var -- 2D list storing upper and lower membership values\n",
    "    t2input -- 2D list containing upper and lower membership values of input.\n",
    "    '''\n",
    "    umf = [] #list to store max value of the intersection of input and variable UMF.\n",
    "    lmf = [] #list to store max value of the intersection of input and variable LMF.\n",
    "    for i in range(len(var[0])):\n",
    "        umf.append(np.amax(np.fmin(t2input,var[0][i])))\n",
    "        lmf.append(np.amax(np.fmin(t2input,var[1][i])))\n",
    "    \n",
    "    return (umf,lmf)"
   ]
  },
  {
   "cell_type": "code",
   "execution_count": 13,
   "metadata": {},
   "outputs": [],
   "source": [
    "def fuzz_mapRule(row_memvalue, col_memvalue, output, rule_lst):\n",
    "    '''\n",
    "    Maps the membership values of the antecedents with the consequent on the basis of decided rules.\n",
    "    \n",
    "    keyword arguments:\n",
    "    \n",
    "    row_memvalue -- 2D tuple of upper and lower membership values of a antecedent along the row\n",
    "    col_memvalue -- 2D tuple of upper and lower membership values of a antecedent along the column\n",
    "    output -- 2D tuple storing Upper and Lower membership values of the consequent \n",
    "    rule_lst -- list containg the decided rules\n",
    "    '''\n",
    "    \n",
    "    rule_umf = [] #maped value of UMF\n",
    "    rule_lmf = [] #maped value of LMF\n",
    "    output_used_Umf = [] #list of UM values of the consequent used acc. to the decided\n",
    "    output_used_Lmf = [] #list of LM values of the consequent used acc. to the decided\n",
    "    \n",
    "    for i in range(len(row_memvalue[0])):\n",
    "        for j in range(len(col_memvalue[0])):\n",
    "            output_used_Umf.append(output[0][rule_lst[i][j] - 1])\n",
    "            output_used_Lmf.append(output[1][rule_lst[i][j] - 1])\n",
    "            rule_umf.append(np.fmin(np.fmin(row_memvalue[0][i], col_memvalue[0][j]), output[0][rule_lst[i][j] - 1]))\n",
    "            rule_lmf.append(np.fmin(np.fmin(row_memvalue[1][i], col_memvalue[1][j]), output[1][rule_lst[i][j] - 1]))\n",
    "    \n",
    "    return [(rule_umf, rule_lmf), (output_used_Umf, output_used_Lmf)]"
   ]
  },
  {
   "cell_type": "code",
   "execution_count": 14,
   "metadata": {},
   "outputs": [],
   "source": [
    "def fuzz_plot_outputMf(x_var, rule, output_used):\n",
    "    '''\n",
    "    plot output membership function at a given singleton value.\n",
    "    \n",
    "    keyword arguments:\n",
    "    \n",
    "    x_var -- x range of variable\n",
    "    rule -- 2D tuple containing the mapped rules for upper and lower memberships\n",
    "    output_used -- 2D tuple containing the type of linguistic terms of output used based on the rules decided\n",
    "    '''\n",
    "    \n",
    "    fig, ax0 = plt.subplots(figsize=(8, 3))\n",
    "    zerolike = np.zeros_like(x_var)\n",
    "    for i in range(len(rule[0])):\n",
    "        ax0.fill_between(x_var, zerolike, rule[0][i], facecolor='red', alpha=0.7)\n",
    "        ax0.plot(x_var, output_used[0][i], linewidth=0.5,linestyle='--')\n",
    "    \n",
    "    for i in range(len(rule[1])):\n",
    "        ax0.fill_between(x_var, zerolike, rule[1][i], facecolor='yellow', alpha=0.7)\n",
    "        ax0.plot(x_var, output_used[1][i], linewidth=0.5,linestyle='--')\n",
    "        \n",
    "    ax0.set_title('Output membership activity')\n",
    "\n",
    "    # Turn off top/right axes\n",
    "    for ax in (ax0,):\n",
    "        ax.spines['top'].set_visible(False)\n",
    "        ax.spines['right'].set_visible(False)\n",
    "        ax.get_xaxis().tick_bottom()\n",
    "        ax.get_yaxis().tick_left()\n",
    "\n",
    "    plt.tight_layout()\n",
    "    return"
   ]
  },
  {
   "cell_type": "code",
   "execution_count": 15,
   "metadata": {},
   "outputs": [],
   "source": [
    "def fuzz_IT2_aggregation(rule):\n",
    "    '''\n",
    "    aggregates the rules seperately for upper and lower.\n",
    "    \n",
    "    keyword arguments:\n",
    "    \n",
    "    rule -- 2D list storing the maped rule for upper and lower membership\n",
    "    '''\n",
    "    \n",
    "    l = len(rule[0]) - 1\n",
    "    npfmaxU = np.fmax(rule[0][l - 1], rule[0][l])\n",
    "    npfmaxL = np.fmax(rule[1][l - 1], rule[1][l])\n",
    "    for i in range(len(rule[0]) - 2):\n",
    "        l = (len(rule[0]) - 1) - (i + 1)\n",
    "        npfmaxU = np.fmax(rule[0][l - 1], npfmaxU)\n",
    "        npfmaxL = np.fmax(rule[1][l - 1], npfmaxL)\n",
    "  \n",
    "    return (npfmaxU,npfmaxL)"
   ]
  },
  {
   "cell_type": "code",
   "execution_count": 16,
   "metadata": {},
   "outputs": [],
   "source": [
    "def fuzz_IT2_defuzz(x_var, R_combined_):\n",
    "    '''\n",
    "    defuzzifies based on the aggregated rules.\n",
    "    \n",
    "    keyword arguments:\n",
    "    \n",
    "    x_var -- x range of variable\n",
    "    R_combined_ -- 2D tuple containing aggregated rules for seperate upper and lower membership values\n",
    "    '''\n",
    "    \n",
    "#     removing the aggregated rules for LMF from that of UMF\n",
    "    R_combined = R_combined_[0] - R_combined_[1]\n",
    "    \n",
    "#     defuzzing based on centroid analysis\n",
    "    output = fuzz.defuzz(x_var, R_combined, 'centroid')\n",
    "    output_activation = fuzz.interp_membership(x_var, R_combined, output)\n",
    "    \n",
    "#    output -- centroid value along x axis\n",
    "#    output_activation -- corresponding membership values of the centroid.\n",
    "    lst = [output, output_activation]\n",
    "    return lst"
   ]
  },
  {
   "cell_type": "code",
   "execution_count": 17,
   "metadata": {},
   "outputs": [],
   "source": [
    "def fuzz_IT2_output(x_var, var, output, output_activation, R_combined):\n",
    "    '''\n",
    "    plots the ouput value along with the centroid.\n",
    "    \n",
    "    keyword arguments:\n",
    "    \n",
    "    x_var -- x range of the variable\n",
    "    var -- 2D tuple containing upper and lower membership values of the consequent\n",
    "    output -- centroid value\n",
    "    output_activation -- membership value of centroid value\n",
    "    R_combined -- 2D tuple containing aggregated rules for upper and lower membership functions \n",
    "    '''\n",
    "    \n",
    "    fig, ax0 = plt.subplots(figsize=(8, 3))\n",
    "    zerolike = np.zeros_like(x_var)\n",
    "    \n",
    "    for i in range(len(var[0])):\n",
    "        ax0.plot(x_var, var[0][i], linewidth=0.5, linestyle='--')\n",
    "        ax0.plot(x_var, var[1][i], linewidth=0.5, linestyle='--')\n",
    "#     for i in range(len(R_combined[0])):\n",
    "    ax0.fill_between(x_var, R_combined[0], R_combined[1], facecolor='Orange', alpha=0.7)\n",
    "        \n",
    "    ax0.plot([output, output], [0, output_activation], 'k', linewidth=1.5, alpha=0.9)\n",
    "    ax0.plot([0,output], [output_activation,output_activation],'Darkgreen',linestyle='dashed', linewidth=1.5, alpha=0.9)\n",
    "    ax0.set_title('Aggregated membership and result (line)')\n",
    "\n",
    "    for ax in (ax0,):\n",
    "        ax.spines['top'].set_visible(False)\n",
    "        ax.spines['right'].set_visible(False)\n",
    "        ax.get_xaxis().tick_bottom()\n",
    "        ax.get_yaxis().tick_left()\n",
    "\n",
    "    plt.tight_layout()\n",
    "    \n",
    "    print(f'Output = {round(output,2)} \\nCorresponding Membership value = {round(output_activation,2)}')"
   ]
  },
  {
   "cell_type": "markdown",
   "metadata": {},
   "source": [
    "# if name == 'main':"
   ]
  },
  {
   "cell_type": "code",
   "execution_count": 21,
   "metadata": {},
   "outputs": [
    {
     "name": "stdout",
     "output_type": "stream",
     "text": [
      "Enter the range of weight:30 101 0.01\n",
      "Enter the range of height:4 7.6 0.01\n",
      "Enter the range of fitnes level:0 11 0.05\n"
     ]
    }
   ],
   "source": [
    "'''\n",
    "input format:\n",
    "x -- the starting value of the range.\n",
    "y -- the upper bound of the range\n",
    "z -- the incrementation value (the difference two values of the range)\n",
    "'''\n",
    "x, y, z = [float(x) for x in input(\"Enter the range of weight:\").split(' ')]\n",
    "x_weight = np.arange(x, y, z)\n",
    "\n",
    "x, y, z = [float(x) for x in input(\"Enter the range of height:\").split(' ')]\n",
    "x_height = np.arange(x, y, z)\n",
    "\n",
    "x, y, z = [float(x) for x in input(\"Enter the range of fitnes level:\").split(' ')]\n",
    "x_fitnessLevel = np.arange(x, y, z)"
   ]
  },
  {
   "cell_type": "code",
   "execution_count": 22,
   "metadata": {},
   "outputs": [
    {
     "name": "stdout",
     "output_type": "stream",
     "text": [
      "Enter the fuzzy inputs for weight :thin medium fat\n",
      "Enter the type of membership function for thin:trapmf\n",
      "Enter the numbers for thin :30 30 40 50 30 30 40 45 0.8\n",
      "Enter the type of membership function for medium:trapmf\n",
      "Enter the numbers for medium :40 55 65 100 45 57 63 80 0.8\n",
      "Enter the type of membership function for fat:trimf\n",
      "Enter the numbers for fat :75 100 100 85 100 100 0.8\n"
     ]
    }
   ],
   "source": [
    "'''\n",
    "w -- 2D tuple containing seperate UMF and LMF of weight(here).\n",
    "w_types -- list containg the linguistic terms for weight(here).\n",
    "'''\n",
    "w_types = input(f'Enter the fuzzy inputs for weight :').split(' ') \n",
    "w = fuzz_IT2_Inputs(x_weight, w_types)"
   ]
  },
  {
   "cell_type": "code",
   "execution_count": 24,
   "metadata": {},
   "outputs": [
    {
     "name": "stdout",
     "output_type": "stream",
     "text": [
      "Enter the fuzzy inputs for height :short medium tall\n",
      "Enter the type of membership function for short:trimf\n",
      "Enter the numbers for short :4 4 5.2 4 4 4.7 0.8\n",
      "Enter the type of membership function for medium:trimf\n",
      "Enter the numbers for medium :4 5.6 7.5 4.5 5.6 7 0.8\n",
      "Enter the type of membership function for tall:trimf\n",
      "Enter the numbers for tall :6 7.5 7.5 6.5 7.5 7.5 0.8\n"
     ]
    }
   ],
   "source": [
    "h_types = input(f'Enter the fuzzy inputs for height :').split(' ') \n",
    "h= fuzz_IT2_Inputs(x_height, h_types)"
   ]
  },
  {
   "cell_type": "code",
   "execution_count": 25,
   "metadata": {},
   "outputs": [
    {
     "name": "stdout",
     "output_type": "stream",
     "text": [
      "Enter the fuzzy inputs for fitness Level :unfit moderatelyFit fit\n",
      "Enter the type of membership function for unfit:trapmf\n",
      "Enter the numbers for unfit :0 0 3 6 0 0 3 4 0.8\n",
      "Enter the type of membership function for moderatelyFit:trimf\n",
      "Enter the numbers for moderatelyFit :3 6 10 4 6 9 0.8\n",
      "Enter the type of membership function for fit:trimf\n",
      "Enter the numbers for fit :7 10 10 8 10 10 0.8\n"
     ]
    }
   ],
   "source": [
    "f_types = input(f'Enter the fuzzy inputs for fitness Level :').split(' ') \n",
    "f = fuzz_IT2_Inputs(x_fitnessLevel, f_types)"
   ]
  },
  {
   "cell_type": "code",
   "execution_count": 26,
   "metadata": {
    "scrolled": true
   },
   "outputs": [
    {
     "name": "stdout",
     "output_type": "stream",
     "text": [
      "The following plot shows the Weight\n",
      "The following plot shows the Height\n",
      "The following plot shows the Fitness Level\n"
     ]
    },
    {
     "data": {
      "image/png": "[encoded data removed]",
      "text/plain": [
       "<Figure size 576x216 with 1 Axes>"
      ]
     },
     "metadata": {
      "needs_background": "light"
     },
     "output_type": "display_data"
    },
    {
     "data": {
      "image/png": "[encoded data removed]",
      "text/plain": [
       "<Figure size 576x216 with 1 Axes>"
      ]
     },
     "metadata": {
      "needs_background": "light"
     },
     "output_type": "display_data"
    },
    {
     "data": {
      "image/png": "[encoded data removed]",
      "text/plain": [
       "<Figure size 576x216 with 1 Axes>"
      ]
     },
     "metadata": {
      "needs_background": "light"
     },
     "output_type": "display_data"
    }
   ],
   "source": [
    "'''\n",
    "Ploting the membership values for each of antecedent and consequent\n",
    "'''\n",
    "fuzz_IT2_plot_mf(x_weight, w, w_types, 'Weight')\n",
    "fuzz_IT2_plot_mf(x_height, h, h_types, 'Height')\n",
    "fuzz_IT2_plot_mf(x_fitnessLevel, f, f_types, 'Fitness Level')"
   ]
  },
  {
   "cell_type": "code",
   "execution_count": 27,
   "metadata": {},
   "outputs": [
    {
     "name": "stdout",
     "output_type": "stream",
     "text": [
      "1) unfit\n",
      "2) moderatelyFit\n",
      "3) fit\n"
     ]
    }
   ],
   "source": [
    "'''\n",
    "Displays the list of linguistic terms of the consequent, corresponding to a value.\n",
    "'''\n",
    "for i in range(len(f_types)):\n",
    "    print(f'{i+1}) {f_types[i]}')"
   ]
  },
  {
   "cell_type": "code",
   "execution_count": 28,
   "metadata": {},
   "outputs": [
    {
     "name": "stdout",
     "output_type": "stream",
     "text": [
      "Enter the number corresponding to the above fitness level menu for rule thin and short: 3\n",
      "Enter the number corresponding to the above fitness level menu for rule thin and medium: 2\n",
      "Enter the number corresponding to the above fitness level menu for rule thin and tall: 1\n",
      "Enter the number corresponding to the above fitness level menu for rule medium and short: 2\n",
      "Enter the number corresponding to the above fitness level menu for rule medium and medium: 3\n",
      "Enter the number corresponding to the above fitness level menu for rule medium and tall: 2\n",
      "Enter the number corresponding to the above fitness level menu for rule fat and short: 1\n",
      "Enter the number corresponding to the above fitness level menu for rule fat and medium: 2\n",
      "Enter the number corresponding to the above fitness level menu for rule fat and tall: 3\n"
     ]
    }
   ],
   "source": [
    "'''\n",
    "rule_lst -- list of rules decided\n",
    "'''\n",
    "rule_lst = fuzz_make_rules(w_types, h_types)"
   ]
  },
  {
   "cell_type": "code",
   "execution_count": 29,
   "metadata": {},
   "outputs": [],
   "source": [
    "'''\n",
    "Taking Type 1 Fuzzy Inputs.\n",
    "'''\n",
    "weight = fuzz.trimf(x_weight, [43,60,90])\n",
    "height = fuzz.trimf(x_height, [4.5,6,7.3])"
   ]
  },
  {
   "cell_type": "code",
   "execution_count": 32,
   "metadata": {},
   "outputs": [
    {
     "data": {
      "text/plain": [
       "[<matplotlib.lines.Line2D at 0x20c0fbd9b08>]"
      ]
     },
     "execution_count": 32,
     "metadata": {},
     "output_type": "execute_result"
    },
    {
     "data": {
      "image/png": "[encoded data removed]",
      "text/plain": [
       "<Figure size 432x288 with 1 Axes>"
      ]
     },
     "metadata": {
      "needs_background": "light"
     },
     "output_type": "display_data"
    }
   ],
   "source": [
    "plt.plot(x_weight, weight)"
   ]
  },
  {
   "cell_type": "code",
   "execution_count": 33,
   "metadata": {},
   "outputs": [
    {
     "data": {
      "text/plain": [
       "[<matplotlib.lines.Line2D at 0x20c0fc436c8>]"
      ]
     },
     "execution_count": 33,
     "metadata": {},
     "output_type": "execute_result"
    },
    {
     "data": {
      "image/png": "[encoded data removed]",
      "text/plain": [
       "<Figure size 432x288 with 1 Axes>"
      ]
     },
     "metadata": {
      "needs_background": "light"
     },
     "output_type": "display_data"
    }
   ],
   "source": [
    "plt.plot(x_height, height)"
   ]
  },
  {
   "cell_type": "code",
   "execution_count": 34,
   "metadata": {},
   "outputs": [],
   "source": [
    "'''\n",
    "x_memvalue -- membership value at a particular single value for the antecedent x(weight and height here).\n",
    "'''\n",
    "w_memvalue = fuzz_IT2_Interplot_mem(w, weight)\n",
    "h_memvalue = fuzz_IT2_Interplot_mem(h, height)"
   ]
  },
  {
   "cell_type": "code",
   "execution_count": 35,
   "metadata": {},
   "outputs": [
    {
     "data": {
      "text/plain": [
       "[0.2589999999997275, 0.9999999999998437, 0.2726666666663969]"
      ]
     },
     "execution_count": 35,
     "metadata": {},
     "output_type": "execute_result"
    }
   ],
   "source": [
    "w_memvalue[0]"
   ]
  },
  {
   "cell_type": "code",
   "execution_count": 36,
   "metadata": {},
   "outputs": [
    {
     "data": {
      "text/plain": [
       "[0.08588235294130943, 0.8, 0.10240000000047454]"
      ]
     },
     "execution_count": 36,
     "metadata": {},
     "output_type": "execute_result"
    }
   ],
   "source": [
    "w_memvalue[1]"
   ]
  },
  {
   "cell_type": "code",
   "execution_count": 37,
   "metadata": {},
   "outputs": [
    {
     "data": {
      "text/plain": [
       "[0.25833333333334924, 0.8799999999999741, 0.46153846153850575]"
      ]
     },
     "execution_count": 37,
     "metadata": {},
     "output_type": "execute_result"
    }
   ],
   "source": [
    "h_memvalue[0]"
   ]
  },
  {
   "cell_type": "code",
   "execution_count": 38,
   "metadata": {},
   "outputs": [
    {
     "data": {
      "text/plain": [
       "[0.08000000000001553, 0.7666666666666432, 0.31199999999995076]"
      ]
     },
     "execution_count": 38,
     "metadata": {},
     "output_type": "execute_result"
    }
   ],
   "source": [
    "h_memvalue[1]"
   ]
  },
  {
   "cell_type": "code",
   "execution_count": 39,
   "metadata": {},
   "outputs": [],
   "source": [
    "'''\n",
    "rule -- 2D tuple of maped rule for upper and lower membership values.\n",
    "fitness_used -- list of fitness values decided based the rule_lst(to be used for ploting)\n",
    "'''\n",
    "rule, fitness_used = fuzz_mapRule(w_memvalue, h_memvalue, f, rule_lst)\n"
   ]
  },
  {
   "cell_type": "code",
   "execution_count": 40,
   "metadata": {},
   "outputs": [
    {
     "data": {
      "image/png": "[encoded data removed]",
      "text/plain": [
       "<Figure size 576x216 with 1 Axes>"
      ]
     },
     "metadata": {
      "needs_background": "light"
     },
     "output_type": "display_data"
    }
   ],
   "source": [
    "fuzz_plot_outputMf(x_fitnessLevel, rule, fitness_used)"
   ]
  },
  {
   "cell_type": "code",
   "execution_count": 41,
   "metadata": {},
   "outputs": [],
   "source": [
    "'''\n",
    "R_combined -- 2D tuple containing aggregated rule for upper and lower membership values.\n",
    "'''\n",
    "R_combined = fuzz_IT2_aggregation(rule)"
   ]
  },
  {
   "cell_type": "code",
   "execution_count": 42,
   "metadata": {},
   "outputs": [],
   "source": [
    "'''\n",
    "fitnessLevel -- output value(centroid value)\n",
    "fitness_activation -- corresponding membership value of output\n",
    "'''\n",
    "fitnessLevel, fitness_activation = fuzz_IT2_defuzz(x_fitnessLevel, R_combined)"
   ]
  },
  {
   "cell_type": "code",
   "execution_count": 43,
   "metadata": {},
   "outputs": [
    {
     "data": {
      "text/plain": [
       "array([0.259     , 0.259     , 0.259     , 0.259     , 0.259     ,\n",
       "       0.259     , 0.259     , 0.259     , 0.259     , 0.259     ,\n",
       "       0.259     , 0.259     , 0.259     , 0.259     , 0.259     ,\n",
       "       0.259     , 0.259     , 0.259     , 0.259     , 0.259     ,\n",
       "       0.259     , 0.259     , 0.259     , 0.259     , 0.259     ,\n",
       "       0.259     , 0.259     , 0.259     , 0.259     , 0.259     ,\n",
       "       0.259     , 0.259     , 0.259     , 0.259     , 0.259     ,\n",
       "       0.259     , 0.259     , 0.259     , 0.259     , 0.259     ,\n",
       "       0.259     , 0.259     , 0.259     , 0.259     , 0.259     ,\n",
       "       0.259     , 0.259     , 0.259     , 0.259     , 0.259     ,\n",
       "       0.259     , 0.259     , 0.259     , 0.259     , 0.259     ,\n",
       "       0.259     , 0.259     , 0.259     , 0.259     , 0.259     ,\n",
       "       0.259     , 0.259     , 0.259     , 0.259     , 0.259     ,\n",
       "       0.259     , 0.259     , 0.259     , 0.259     , 0.259     ,\n",
       "       0.259     , 0.259     , 0.259     , 0.259     , 0.259     ,\n",
       "       0.259     , 0.26666667, 0.28333333, 0.3       , 0.31666667,\n",
       "       0.33333333, 0.35      , 0.36666667, 0.38333333, 0.4       ,\n",
       "       0.41666667, 0.43333333, 0.45      , 0.46153846, 0.46153846,\n",
       "       0.46153846, 0.46153846, 0.46153846, 0.46153846, 0.46153846,\n",
       "       0.46153846, 0.46153846, 0.46153846, 0.46153846, 0.46153846,\n",
       "       0.46153846, 0.46153846, 0.46153846, 0.46153846, 0.46153846,\n",
       "       0.46153846, 0.46153846, 0.46153846, 0.46153846, 0.46153846,\n",
       "       0.46153846, 0.46153846, 0.46153846, 0.46153846, 0.46153846,\n",
       "       0.46153846, 0.46153846, 0.46153846, 0.46153846, 0.46153846,\n",
       "       0.46153846, 0.46153846, 0.46153846, 0.46153846, 0.46153846,\n",
       "       0.46153846, 0.46153846, 0.46153846, 0.46153846, 0.46153846,\n",
       "       0.46153846, 0.46153846, 0.46153846, 0.46153846, 0.46153846,\n",
       "       0.46153846, 0.46153846, 0.46153846, 0.46153846, 0.46153846,\n",
       "       0.46153846, 0.46153846, 0.46153846, 0.46153846, 0.46153846,\n",
       "       0.46153846, 0.46153846, 0.46153846, 0.46153846, 0.46153846,\n",
       "       0.46153846, 0.46153846, 0.46153846, 0.46153846, 0.46153846,\n",
       "       0.46153846, 0.46153846, 0.46153846, 0.46153846, 0.46153846,\n",
       "       0.46153846, 0.46153846, 0.46153846, 0.46153846, 0.45      ,\n",
       "       0.4375    , 0.43333333, 0.45      , 0.46666667, 0.48333333,\n",
       "       0.5       , 0.51666667, 0.53333333, 0.55      , 0.56666667,\n",
       "       0.58333333, 0.6       , 0.61666667, 0.63333333, 0.65      ,\n",
       "       0.66666667, 0.68333333, 0.7       , 0.71666667, 0.73333333,\n",
       "       0.75      , 0.76666667, 0.78333333, 0.8       , 0.81666667,\n",
       "       0.83333333, 0.85      , 0.86666667, 0.88      , 0.88      ,\n",
       "       0.88      , 0.88      , 0.88      , 0.88      , 0.88      ,\n",
       "       0.88      , 0.        , 0.        , 0.        , 0.        ,\n",
       "       0.        , 0.        , 0.        , 0.        , 0.        ,\n",
       "       0.        , 0.        , 0.        , 0.        , 0.        ,\n",
       "       0.        , 0.        , 0.        , 0.        , 0.        ])"
      ]
     },
     "execution_count": 43,
     "metadata": {},
     "output_type": "execute_result"
    }
   ],
   "source": [
    "R_combined[0]"
   ]
  },
  {
   "cell_type": "code",
   "execution_count": 44,
   "metadata": {},
   "outputs": [
    {
     "data": {
      "text/plain": [
       "array([0.08588235, 0.08588235, 0.08588235, 0.08588235, 0.08588235,\n",
       "       0.08588235, 0.08588235, 0.08588235, 0.08588235, 0.08588235,\n",
       "       0.08588235, 0.08588235, 0.08588235, 0.08588235, 0.08588235,\n",
       "       0.08588235, 0.08588235, 0.08588235, 0.08588235, 0.08588235,\n",
       "       0.08588235, 0.08588235, 0.08588235, 0.08588235, 0.08588235,\n",
       "       0.08588235, 0.08588235, 0.08588235, 0.08588235, 0.08588235,\n",
       "       0.08588235, 0.08588235, 0.08588235, 0.08588235, 0.08588235,\n",
       "       0.08588235, 0.08588235, 0.08588235, 0.08588235, 0.08588235,\n",
       "       0.08588235, 0.08588235, 0.08588235, 0.08588235, 0.08588235,\n",
       "       0.08588235, 0.08588235, 0.08588235, 0.08588235, 0.08588235,\n",
       "       0.08588235, 0.08588235, 0.08588235, 0.08588235, 0.08588235,\n",
       "       0.08588235, 0.08588235, 0.08588235, 0.08588235, 0.08588235,\n",
       "       0.08588235, 0.08588235, 0.08588235, 0.08588235, 0.08588235,\n",
       "       0.08588235, 0.08588235, 0.08588235, 0.08588235, 0.08588235,\n",
       "       0.08588235, 0.08588235, 0.08588235, 0.08588235, 0.08588235,\n",
       "       0.08588235, 0.08588235, 0.08588235, 0.08      , 0.04      ,\n",
       "       0.        , 0.02      , 0.04      , 0.06      , 0.08      ,\n",
       "       0.1       , 0.12      , 0.14      , 0.16      , 0.18      ,\n",
       "       0.2       , 0.22      , 0.24      , 0.26      , 0.28      ,\n",
       "       0.3       , 0.312     , 0.312     , 0.312     , 0.312     ,\n",
       "       0.312     , 0.312     , 0.312     , 0.312     , 0.312     ,\n",
       "       0.312     , 0.312     , 0.312     , 0.312     , 0.312     ,\n",
       "       0.312     , 0.312     , 0.312     , 0.312     , 0.312     ,\n",
       "       0.312     , 0.312     , 0.312     , 0.312     , 0.312     ,\n",
       "       0.312     , 0.312     , 0.312     , 0.312     , 0.312     ,\n",
       "       0.312     , 0.312     , 0.312     , 0.312     , 0.312     ,\n",
       "       0.312     , 0.312     , 0.312     , 0.312     , 0.312     ,\n",
       "       0.312     , 0.312     , 0.312     , 0.312     , 0.312     ,\n",
       "       0.312     , 0.312     , 0.312     , 0.312     , 0.312     ,\n",
       "       0.312     , 0.312     , 0.312     , 0.312     , 0.312     ,\n",
       "       0.312     , 0.312     , 0.312     , 0.312     , 0.312     ,\n",
       "       0.312     , 0.312     , 0.30666667, 0.29333333, 0.28      ,\n",
       "       0.26666667, 0.25333333, 0.24      , 0.22666667, 0.21333333,\n",
       "       0.2       , 0.18666667, 0.17333333, 0.16      , 0.18      ,\n",
       "       0.2       , 0.22      , 0.24      , 0.26      , 0.28      ,\n",
       "       0.3       , 0.32      , 0.34      , 0.36      , 0.38      ,\n",
       "       0.4       , 0.42      , 0.44      , 0.46      , 0.48      ,\n",
       "       0.5       , 0.52      , 0.54      , 0.56      , 0.58      ,\n",
       "       0.6       , 0.62      , 0.64      , 0.66      , 0.68      ,\n",
       "       0.7       , 0.72      , 0.74      , 0.76      , 0.76666667,\n",
       "       0.76666667, 0.        , 0.        , 0.        , 0.        ,\n",
       "       0.        , 0.        , 0.        , 0.        , 0.        ,\n",
       "       0.        , 0.        , 0.        , 0.        , 0.        ,\n",
       "       0.        , 0.        , 0.        , 0.        , 0.        ])"
      ]
     },
     "execution_count": 44,
     "metadata": {},
     "output_type": "execute_result"
    }
   ],
   "source": [
    "R_combined[1]"
   ]
  },
  {
   "cell_type": "code",
   "execution_count": 45,
   "metadata": {},
   "outputs": [
    {
     "name": "stdout",
     "output_type": "stream",
     "text": [
      "Output = 5.19 \n",
      "Corresponding Membership value = 0.15\n"
     ]
    },
    {
     "data": {
      "image/png": "[encoded data removed]",
      "text/plain": [
       "<Figure size 576x216 with 1 Axes>"
      ]
     },
     "metadata": {
      "needs_background": "light"
     },
     "output_type": "display_data"
    }
   ],
   "source": [
    "fuzz_IT2_output(x_fitnessLevel, f, fitnessLevel, fitness_activation, R_combined)"
   ]
  },
  {
   "cell_type": "code",
   "execution_count": null,
   "metadata": {},
   "outputs": [],
   "source": []
  },
  {
   "cell_type": "code",
   "execution_count": null,
   "metadata": {},
   "outputs": [],
   "source": []
  },
  {
   "cell_type": "code",
   "execution_count": null,
   "metadata": {},
   "outputs": [],
   "source": []
  }
 ],
 "metadata": {
  "kernelspec": {
   "display_name": "Python 3",
   "language": "python",
   "name": "python3"
  },
  "language_info": {
   "codemirror_mode": {
    "name": "ipython",
    "version": 3
   },
   "file_extension": ".py",
   "mimetype": "text/x-python",
   "name": "python",
   "nbconvert_exporter": "python",
   "pygments_lexer": "ipython3",
   "version": "3.7.3"
  }
 },
 "nbformat": 4,
 "nbformat_minor": 2
}
